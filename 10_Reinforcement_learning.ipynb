{
  "cells": [
    {
      "cell_type": "code",
      "execution_count": null,
      "metadata": {
        "id": "y4bNTojYvwym"
      },
      "outputs": [],
      "source": [
        "!pip install gymnasium"
      ]
    },
    {
      "cell_type": "code",
      "execution_count": 39,
      "metadata": {
        "id": "dhuY_Y0Xvwyp"
      },
      "outputs": [],
      "source": [
        "import gym  # Importing the gym library for game environment\n",
        "import math\n",
        "import random\n",
        "import matplotlib\n",
        "import matplotlib.pyplot as plt\n",
        "from collections import namedtuple, deque  # Importing data collection libraries\n",
        "from itertools import count  # Importing module for iterating over sequences\n",
        "\n",
        "import torch\n",
        "import torch.nn as nn\n",
        "import torch.optim as optim\n",
        "import torch.nn.functional as F  # Importing module for activation functions in PyTorch\n",
        "\n",
        "env = gym.make(\"CartPole-v1\")  # Creating the game environment \"CartPole-v1\"\n",
        "\n",
        "# Setting up matplotlib\n",
        "is_ipython = 'inline' in matplotlib.get_backend()\n",
        "if is_ipython:\n",
        "    from IPython import display\n",
        "\n",
        "plt.ion()  # Turning on interactive mode for matplotlib\n",
        "\n",
        "# Using GPU if available\n",
        "device = torch.device(\"cuda\" if torch.cuda.is_available() else \"cpu\")"
      ]
    },
    {
      "cell_type": "code",
      "execution_count": 40,
      "metadata": {
        "id": "8WM3G8cYvwyq"
      },
      "outputs": [],
      "source": [
        "# Creating a named tuple named 'Transition' with fields 'state', 'action', 'next_state', and 'reward'\n",
        "Transition = namedtuple('Transition', ('state', 'action', 'next_state', 'reward'))\n",
        "\n",
        "class ReplayMemory(object):\n",
        "    def __init__(self, capacity):\n",
        "        # Initializing memory as a queue with maximum capacity 'capacity'\n",
        "        self.memory = deque([], maxlen=capacity)\n",
        "\n",
        "    def push(self, *args):\n",
        "        \"\"\"Saves a transition to memory\"\"\"\n",
        "        # Adding a new transition to memory, converting arguments into a 'Transition' object\n",
        "        self.memory.append(Transition(*args))\n",
        "\n",
        "    def sample(self, batch_size):\n",
        "        # Randomly samples 'batch_size' transitions from memory\n",
        "        return random.sample(self.memory, batch_size)\n",
        "\n",
        "    def __len__(self):\n",
        "        # Returns the current number of elements in memory\n",
        "        return len(self.memory)\n"
      ]
    },
    {
      "cell_type": "code",
      "execution_count": 41,
      "metadata": {
        "id": "QaLhqDLlvwyq"
      },
      "outputs": [],
      "source": [
        "# Definition of the DQN (Deep Q-Network) class representing the neural network model\n",
        "class DQN(nn.Module):\n",
        "\n",
        "    def __init__(self, n_observations, n_actions):\n",
        "        super(DQN, self).__init__()\n",
        "        # Linear layer with input size 'n_observations' to 128 neurons\n",
        "        self.layer1 = nn.Linear(n_observations, 128)\n",
        "        # Another linear layer from 128 neurons to 128 neurons\n",
        "        self.layer2 = nn.Linear(128, 128)\n",
        "        # Linear layer with 128 neurons to 'n_actions' neurons (output)\n",
        "        self.layer3 = nn.Linear(128, n_actions)\n",
        "\n",
        "    def forward(self, x):\n",
        "        # Passing data through layers with ReLU activation function\n",
        "        x = F.relu(self.layer1(x))\n",
        "        x = F.relu(self.layer2(x))\n",
        "        # Returning the result from the last linear layer (without activation function)\n",
        "        return self.layer3(x)"
      ]
    },
    {
      "cell_type": "code",
      "execution_count": 42,
      "metadata": {
        "id": "AMS67aECvwyr"
      },
      "outputs": [],
      "source": [
        "# Learning hyperparameters and configuration\n",
        "BATCH_SIZE = 128  # Batch size\n",
        "GAMMA = 0.99  # Discount factor for future rewards\n",
        "EPS_START = 0.9  # Initial value of ε (epsilon) in ε-greedy exploration\n",
        "EPS_END = 0.05  # Final value of ε (epsilon)\n",
        "EPS_DECAY = 1000  # Decay rate of ε in the exploration process\n",
        "TAU = 0.005  # Soft target update coefficient for the target model\n",
        "LR = 1e-4  # Learning rate coefficient\n",
        "\n",
        "# Getting the number of available actions from the environment's action space\n",
        "n_actions = env.action_space.n\n",
        "# Getting the number of state observations\n",
        "state = env.reset()\n",
        "n_observations = len(state)\n",
        "\n",
        "# Initializing the policy_net and target_net models\n",
        "policy_net = DQN(n_observations, n_actions).to(device)\n",
        "target_net = DQN(n_observations, n_actions).to(device)\n",
        "target_net.load_state_dict(policy_net.state_dict())\n",
        "\n",
        "# Initializing the optimizer\n",
        "optimizer = optim.AdamW(policy_net.parameters(), lr=LR, amsgrad=True)\n",
        "\n",
        "# Initializing the replay memory\n",
        "memory = ReplayMemory(10000)\n",
        "\n",
        "# Initializing the step counter\n",
        "steps_done = 0\n",
        "\n",
        "# The select_action function chooses an action in the exploration process\n",
        "def select_action(state):\n",
        "    global steps_done\n",
        "    sample = random.random()\n",
        "    eps_threshold = EPS_END + (EPS_START - EPS_END) * \\\n",
        "        math.exp(-1. * steps_done / EPS_DECAY)\n",
        "    steps_done += 1\n",
        "    if sample > eps_threshold:\n",
        "        with torch.no_grad():\n",
        "            # Choosing action based on maximum expected reward\n",
        "            return policy_net(state).max(1)[1].view(1, 1)\n",
        "    else:\n",
        "        # Random action selection for exploration\n",
        "        return torch.tensor([[env.action_space.sample()]], device=device, dtype=torch.long)\n",
        "\n",
        "# List storing episode durations\n",
        "episode_durations = []\n",
        "\n",
        "# Function for visualizing the training progress\n",
        "def plot_durations(show_result=False):\n",
        "    plt.figure(1)\n",
        "    durations_t = torch.tensor(episode_durations, dtype=torch.float)\n",
        "    if show_result:\n",
        "        plt.title('Result')\n",
        "    else:\n",
        "        plt.clf()\n",
        "        plt.title('Training...')\n",
        "    plt.xlabel('Episode')\n",
        "    plt.ylabel('Duration')\n",
        "    plt.plot(durations_t.numpy())\n",
        "\n",
        "    # Displaying average episode durations in a window\n",
        "    if len(durations_t) >= 100:\n",
        "        means = durations_t.unfold(0, 100, 1).mean(1).view(-1)\n",
        "        means = torch.cat((torch.zeros(99), means))\n",
        "        plt.plot(means.numpy())\n",
        "\n",
        "    plt.pause(0.001)  # Pause for plots to update\n",
        "    if is_ipython:\n",
        "        if not show_result:\n",
        "            display.display(plt.gcf())\n",
        "            display.clear_output(wait=True)\n",
        "        else:\n",
        "            display.display(plt.gcf())\n"
      ]
    },
    {
      "cell_type": "code",
      "execution_count": 43,
      "metadata": {
        "id": "_mEcGiO2vwyr"
      },
      "outputs": [],
      "source": [
        "# Model optimization by updating neural network weights\n",
        "def optimize_model():\n",
        "    if len(memory) < BATCH_SIZE:\n",
        "        return  # If memory doesn't contain enough transitions, we don't optimize the model\n",
        "\n",
        "    # Sampling BATCH_SIZE transitions from memory\n",
        "    transitions = memory.sample(BATCH_SIZE)\n",
        "    batch = Transition(*zip(*transitions))\n",
        "\n",
        "    # Creating a mask for non-final states (whether they are not None)\n",
        "    non_final_mask = torch.tensor(tuple(map(lambda s: s is not None,\n",
        "                                            batch.next_state)), device=device, dtype=torch.bool)\n",
        "\n",
        "    # Creating a tensor containing states, actions, and rewards from the batch of transitions\n",
        "    non_final_next_states = torch.cat([s for s in batch.next_state if s is not None])\n",
        "    state_batch = torch.cat(batch.state)\n",
        "    action_batch = torch.cat(batch.action)\n",
        "    reward_batch = torch.cat(batch.reward)\n",
        "\n",
        "    # Computing state-action values for states in the batch\n",
        "    state_action_values = policy_net(state_batch).gather(1, action_batch)\n",
        "\n",
        "    # Initializing the next_state_values tensor with zeros\n",
        "    next_state_values = torch.zeros(BATCH_SIZE, device=device)\n",
        "\n",
        "    # Computing expected state-action values for non-final states\n",
        "    with torch.no_grad():\n",
        "        next_state_values[non_final_mask] = target_net(non_final_next_states).max(1)[0]\n",
        "\n",
        "    # Calculating expected state-action values using the Bellman equation\n",
        "    expected_state_action_values = (next_state_values * GAMMA) + reward_batch\n",
        "\n",
        "    # Defining the loss function - using the Smooth L1 loss function\n",
        "    criterion = nn.SmoothL1Loss()\n",
        "    loss = criterion(state_action_values, expected_state_action_values.unsqueeze(1))\n",
        "\n",
        "    # Zeroing gradients, computing gradients, and updating network weights\n",
        "    optimizer.zero_grad()\n",
        "    loss.backward()\n",
        "\n",
        "    # Clipping gradients to avoid gradient explosion\n",
        "    torch.nn.utils.clip_grad_value_(policy_net.parameters(), 100)\n",
        "\n",
        "    # Updating network weights based on computed gradients\n",
        "    optimizer.step()\n"
      ]
    },
    {
      "cell_type": "code",
      "execution_count": 44,
      "metadata": {
        "colab": {
          "base_uri": "https://localhost:8080/",
          "height": 524
        },
        "id": "l4x3Rpd-vwys",
        "outputId": "ba7d9fcd-b966-47ca-f1cd-64d7d8e02f1c"
      },
      "outputs": [
        {
          "name": "stdout",
          "output_type": "stream",
          "text": [
            "Completed\n"
          ]
        },
        {
          "data": {
            "image/png": "[encoded data removed]",
            "text/plain": [
              "<Figure size 640x480 with 1 Axes>"
            ]
          },
          "metadata": {},
          "output_type": "display_data"
        },
        {
          "data": {
            "text/plain": [
              "<Figure size 640x480 with 0 Axes>"
            ]
          },
          "metadata": {},
          "output_type": "display_data"
        },
        {
          "data": {
            "text/plain": [
              "<Figure size 640x480 with 0 Axes>"
            ]
          },
          "metadata": {},
          "output_type": "display_data"
        }
      ],
      "source": [
        "# Checking GPU availability (if available, increase the number of episodes)\n",
        "if torch.cuda.is_available():\n",
        "    num_episodes = 600\n",
        "else:\n",
        "    num_episodes = 100\n",
        "\n",
        "# Main loop - iterates through the specified number of episodes\n",
        "for i_episode in range(num_episodes):\n",
        "    # Initializing the environment and getting the initial state\n",
        "    state = env.reset()\n",
        "    state = torch.tensor(state, dtype=torch.float32, device=device).unsqueeze(0)\n",
        "    for t in count():\n",
        "        action = select_action(state)\n",
        "        observation, reward, terminated, truncated = env.step(action.item())\n",
        "        reward = torch.tensor([reward], device=device)\n",
        "        done = terminated or truncated\n",
        "\n",
        "        if terminated:\n",
        "            next_state = None\n",
        "        else:\n",
        "            next_state = torch.tensor(observation, dtype=torch.float32, device=device).unsqueeze(0)\n",
        "\n",
        "        # Saving the transition to the replay memory\n",
        "        memory.push(state, action, next_state, reward)\n",
        "\n",
        "        # Moving to the next state\n",
        "        state = next_state\n",
        "\n",
        "        # Performing one optimization step (on the policy network)\n",
        "        optimize_model()\n",
        "\n",
        "        # Updating target network weights using hard update\n",
        "        target_net_state_dict = target_net.state_dict()\n",
        "        policy_net_state_dict = policy_net.state_dict()\n",
        "        for key in policy_net_state_dict:\n",
        "            target_net_state_dict[key] = policy_net_state_dict[key] * TAU + target_net_state_dict[key] * (1 - TAU)\n",
        "        target_net.load_state_dict(target_net_state_dict)\n",
        "\n",
        "        if done:\n",
        "            episode_durations.append(t + 1)\n",
        "            plot_durations()\n",
        "            break\n",
        "\n",
        "print('Completed')\n",
        "plot_durations(show_result=True)\n",
        "plt.ioff()\n",
        "plt.show()\n"
      ]
    }
  ],
  "metadata": {
    "colab": {
      "provenance": []
    },
    "kernelspec": {
      "display_name": "pytorch_env",
      "language": "python",
      "name": "python3"
    },
    "language_info": {
      "codemirror_mode": {
        "name": "ipython",
        "version": 3
      },
      "file_extension": ".py",
      "mimetype": "text/x-python",
      "name": "python",
      "nbconvert_exporter": "python",
      "pygments_lexer": "ipython3",
      "version": "3.9.17"
    },
    "orig_nbformat": 4
  },
  "nbformat": 4,
  "nbformat_minor": 0
}
