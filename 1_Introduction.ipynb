{
  "cells": [
    {
      "cell_type": "code",
      "execution_count": 27,
      "metadata": {
        "id": "d_xbrUou1cex"
      },
      "outputs": [],
      "source": [
        "import torch\n",
        "from torch import Tensor"
      ]
    },
    {
      "cell_type": "code",
      "execution_count": 28,
      "metadata": {
        "colab": {
          "base_uri": "https://localhost:8080/"
        },
        "id": "aaaA06Vj1ce0",
        "outputId": "4bea708b-95ef-49d9-da45-01101a223c35"
      },
      "outputs": [
        {
          "name": "stdout",
          "output_type": "stream",
          "text": [
            "torch version 2.3.0+cu121\n"
          ]
        }
      ],
      "source": [
        "print(\"torch version\", torch.__version__)"
      ]
    },
    {
      "cell_type": "code",
      "execution_count": 29,
      "metadata": {
        "colab": {
          "base_uri": "https://localhost:8080/"
        },
        "id": "eGvzyQoZ1ce1",
        "outputId": "8d7e358c-fb22-4064-9f3b-86258934e91d"
      },
      "outputs": [
        {
          "data": {
            "text/plain": [
              "<torch._C.Generator at 0x7ff34c041cb0>"
            ]
          },
          "execution_count": 29,
          "metadata": {},
          "output_type": "execute_result"
        }
      ],
      "source": [
        "torch.manual_seed(303)"
      ]
    },
    {
      "cell_type": "code",
      "execution_count": 30,
      "metadata": {
        "colab": {
          "base_uri": "https://localhost:8080/"
        },
        "id": "FWyplW5p1ce3",
        "outputId": "8c18d07d-8e4a-4d7d-ed64-1b5fd4d3d3c4"
      },
      "outputs": [
        {
          "name": "stdout",
          "output_type": "stream",
          "text": [
            "tensor([[[ 0.0000e+00,  0.0000e+00,  0.0000e+00,  0.0000e+00],\n",
            "         [ 0.0000e+00,  0.0000e+00,  0.0000e+00,  0.0000e+00],\n",
            "         [ 1.4013e-45,  0.0000e+00,  0.0000e+00,  0.0000e+00]],\n",
            "\n",
            "        [[ 0.0000e+00,  0.0000e+00,  0.0000e+00,  0.0000e+00],\n",
            "         [ 0.0000e+00,  0.0000e+00,  1.4013e-44,  0.0000e+00],\n",
            "         [ 1.4013e-45,  0.0000e+00, -1.7014e+38,  1.1515e-40]]])\n"
          ]
        }
      ],
      "source": [
        "# creating a new tensor with dimensions (2, 3, 4).\n",
        "# tensor has three dimensions: 2, 3, and 4.\n",
        "x = Tensor(2, 3, 4)\n",
        "print(x)"
      ]
    },
    {
      "cell_type": "code",
      "execution_count": 31,
      "metadata": {
        "colab": {
          "base_uri": "https://localhost:8080/"
        },
        "id": "dtxR_Rhb1ce3",
        "outputId": "35577441-d80a-4bea-d83b-7e6e9335a5c1"
      },
      "outputs": [
        {
          "name": "stdout",
          "output_type": "stream",
          "text": [
            "tensor([[1., 2.],\n",
            "        [3., 4.]])\n"
          ]
        }
      ],
      "source": [
        "# creating a tensor from a list of provided values.\n",
        "x = Tensor([[1, 2], [3, 4]])\n",
        "print(x)"
      ]
    },
    {
      "cell_type": "code",
      "execution_count": 32,
      "metadata": {
        "colab": {
          "base_uri": "https://localhost:8080/"
        },
        "id": "aSqqrzlG1ce4",
        "outputId": "3faf8c1b-ac52-44dc-d0a3-39a6f9758591"
      },
      "outputs": [
        {
          "name": "stdout",
          "output_type": "stream",
          "text": [
            "tensor([[[0.0380, 0.1307, 0.9450, 0.1469],\n",
            "         [0.0033, 0.1187, 0.5883, 0.8929],\n",
            "         [0.0203, 0.3851, 0.4325, 0.0792]],\n",
            "\n",
            "        [[0.8804, 0.1749, 0.2369, 0.6554],\n",
            "         [0.8336, 0.7172, 0.4542, 0.6316],\n",
            "         [0.7780, 0.3755, 0.2328, 0.7657]]])\n"
          ]
        }
      ],
      "source": [
        "# creating a new tensor with dimensions (2, 3, 4) using the torch.rand function. \n",
        "# this tensor is filled with random numbers in the range [0, 1].\n",
        "x = torch.rand(2, 3, 4)\n",
        "print(x)"
      ]
    },
    {
      "cell_type": "code",
      "execution_count": 33,
      "metadata": {
        "colab": {
          "base_uri": "https://localhost:8080/"
        },
        "id": "eQ2gk5rC1ce4",
        "outputId": "bed73672-65d1-4aca-f99e-4f24e1940169"
      },
      "outputs": [
        {
          "name": "stdout",
          "output_type": "stream",
          "text": [
            "tensor dim: torch.Size([2, 3, 4])\n"
          ]
        }
      ],
      "source": [
        "# retrieve the dimensions of tensor x using the shape property\n",
        "shape = x.shape\n",
        "print(\"tensor dim:\", x.shape)"
      ]
    },
    {
      "cell_type": "code",
      "execution_count": 34,
      "metadata": {
        "colab": {
          "base_uri": "https://localhost:8080/"
        },
        "id": "rQSPxK9e1ce5",
        "outputId": "d62c3b16-90c4-414b-e482-ce61e4305d26"
      },
      "outputs": [
        {
          "name": "stdout",
          "output_type": "stream",
          "text": [
            "tensor dim: torch.Size([2, 3, 4])\n"
          ]
        }
      ],
      "source": [
        "size = x.size()\n",
        "print(\"tensor dim:\", size)"
      ]
    },
    {
      "cell_type": "code",
      "execution_count": 35,
      "metadata": {
        "colab": {
          "base_uri": "https://localhost:8080/"
        },
        "id": "DlydbDGt1ce5",
        "outputId": "5e25048e-dc7f-45b9-fa18-03c2c907ab1c"
      },
      "outputs": [
        {
          "name": "stdout",
          "output_type": "stream",
          "text": [
            "tensor dim: 2 3 4\n"
          ]
        }
      ],
      "source": [
        "dim1, dim2, dim3 = x.size()\n",
        "print(\"tensor dim:\", dim1, dim2, dim3)"
      ]
    },
    {
      "cell_type": "code",
      "execution_count": 36,
      "metadata": {
        "colab": {
          "base_uri": "https://localhost:8080/"
        },
        "id": "KdbEN0S91ce6",
        "outputId": "f59093b0-1127-43ec-f73a-5f3fef40d52c"
      },
      "outputs": [
        {
          "name": "stdout",
          "output_type": "stream",
          "text": [
            "Numpy array: [[1 2]\n",
            " [3 4]]\n",
            "PyTorch tensor: tensor([[1, 2],\n",
            "        [3, 4]])\n"
          ]
        }
      ],
      "source": [
        "import numpy as np\n",
        "\n",
        "# Numpy array\n",
        "np_arr = np.array([[1, 2], [3, 4]])\n",
        "# Converting from NumPy to PyTorch.\n",
        "tensor = torch.from_numpy(np_arr)\n",
        "\n",
        "print(\"Numpy array:\", np_arr)\n",
        "print(\"PyTorch tensor:\", tensor)"
      ]
    },
    {
      "cell_type": "code",
      "execution_count": 37,
      "metadata": {
        "colab": {
          "base_uri": "https://localhost:8080/"
        },
        "id": "DdQuHl-Y1ce6",
        "outputId": "be9e6836-5570-4fb7-a292-8c4eb00aacdc"
      },
      "outputs": [
        {
          "name": "stdout",
          "output_type": "stream",
          "text": [
            "PyTorch tensor: tensor([0, 1, 2, 3])\n",
            "Numpy array: [0 1 2 3]\n"
          ]
        }
      ],
      "source": [
        "tensor = torch.arange(4)\n",
        "np_arr = tensor.numpy()\n",
        "\n",
        "print(\"PyTorch tensor:\", tensor)\n",
        "print(\"Numpy array:\", np_arr)"
      ]
    },
    {
      "cell_type": "code",
      "execution_count": 38,
      "metadata": {
        "colab": {
          "base_uri": "https://localhost:8080/"
        },
        "id": "nqTgOYBg1ce7",
        "outputId": "4a913f80-b1eb-46f0-b7e4-06c81b064086"
      },
      "outputs": [
        {
          "name": "stdout",
          "output_type": "stream",
          "text": [
            "X1 tensor([[0.1480, 0.8440, 0.6702],\n",
            "        [0.3148, 0.2298, 0.5666]])\n",
            "X2 tensor([[0.6896, 0.2062, 0.9707],\n",
            "        [0.0466, 0.2240, 0.4959]])\n",
            "Y tensor([[0.8377, 1.0502, 1.6409],\n",
            "        [0.3614, 0.4538, 1.0625]])\n"
          ]
        }
      ],
      "source": [
        "x1 = torch.rand(2, 3)\n",
        "x2 = torch.rand(2, 3)\n",
        "y = x1 + x2\n",
        "\n",
        "print(\"X1\", x1)\n",
        "print(\"X2\", x2)\n",
        "print(\"Y\", y)"
      ]
    },
    {
      "cell_type": "code",
      "execution_count": 39,
      "metadata": {
        "colab": {
          "base_uri": "https://localhost:8080/"
        },
        "id": "L99DbRHk1ce7",
        "outputId": "32cebbb8-e8e0-4490-be69-aa81a36ede2e"
      },
      "outputs": [
        {
          "name": "stdout",
          "output_type": "stream",
          "text": [
            "X tensor([0, 1, 2, 3, 4, 5])\n"
          ]
        }
      ],
      "source": [
        "# function generates a sequence of numbers from 0 to 5 (6 elements)\n",
        "x = torch.arange(6)\n",
        "print(\"X\", x)"
      ]
    },
    {
      "cell_type": "code",
      "execution_count": 40,
      "metadata": {
        "colab": {
          "base_uri": "https://localhost:8080/"
        },
        "id": "EqnJXLgi1ce7",
        "outputId": "cb5b6dfb-de45-45ca-9399-b48f960f174e"
      },
      "outputs": [
        {
          "name": "stdout",
          "output_type": "stream",
          "text": [
            "X tensor([[0, 1, 2],\n",
            "        [3, 4, 5]])\n"
          ]
        }
      ],
      "source": [
        "# reshaping tensor x from (6,) to (2, 3) using the .view() method.\n",
        "x = x.view(2, 3)\n",
        "print(\"X\", x)"
      ]
    },
    {
      "cell_type": "code",
      "execution_count": 41,
      "metadata": {
        "colab": {
          "base_uri": "https://localhost:8080/"
        },
        "id": "dujLqsD21ce8",
        "outputId": "7d636d00-74ed-4a93-d494-2a8da8791bf0"
      },
      "outputs": [
        {
          "name": "stdout",
          "output_type": "stream",
          "text": [
            "X tensor([[ 0,  1,  2,  3],\n",
            "        [ 4,  5,  6,  7],\n",
            "        [ 8,  9, 10, 11]])\n"
          ]
        }
      ],
      "source": [
        "x = torch.arange(12).view(3, 4)\n",
        "print(\"X\", x)"
      ]
    },
    {
      "cell_type": "code",
      "execution_count": 42,
      "metadata": {
        "colab": {
          "base_uri": "https://localhost:8080/"
        },
        "id": "uRCYHe9q1ce8",
        "outputId": "6654247b-d672-451b-d9d3-d7a73787eb27"
      },
      "outputs": [
        {
          "name": "stdout",
          "output_type": "stream",
          "text": [
            "tensor([1, 5, 9])\n"
          ]
        }
      ],
      "source": [
        "# second column\n",
        "print(x[:, 1])"
      ]
    },
    {
      "cell_type": "code",
      "execution_count": 43,
      "metadata": {
        "colab": {
          "base_uri": "https://localhost:8080/"
        },
        "id": "gfitZ8M51ce9",
        "outputId": "42c486b9-5017-4f41-964e-191d1c93b744"
      },
      "outputs": [
        {
          "name": "stdout",
          "output_type": "stream",
          "text": [
            "tensor([0, 1, 2, 3])\n"
          ]
        }
      ],
      "source": [
        "# first row\n",
        "print(x[0])"
      ]
    },
    {
      "cell_type": "code",
      "execution_count": 44,
      "metadata": {
        "colab": {
          "base_uri": "https://localhost:8080/"
        },
        "id": "MV1Rphyb1ce-",
        "outputId": "2e508aec-68fa-42af-d942-72c6eb627d30"
      },
      "outputs": [
        {
          "name": "stdout",
          "output_type": "stream",
          "text": [
            "tensor([3, 7])\n"
          ]
        }
      ],
      "source": [
        "# first two rows, last column\n",
        "print(x[:2, -1])"
      ]
    },
    {
      "cell_type": "markdown",
      "metadata": {},
      "source": [
        "Excercises"
      ]
    },
    {
      "cell_type": "code",
      "execution_count": 45,
      "metadata": {
        "colab": {
          "base_uri": "https://localhost:8080/"
        },
        "id": "jMG8FZB51ce_",
        "outputId": "21e8c149-262d-40b6-d325-5715f1a0a991"
      },
      "outputs": [
        {
          "name": "stdout",
          "output_type": "stream",
          "text": [
            "tensor([[0., 0., 0.],\n",
            "        [0., 0., 0.],\n",
            "        [0., 0., 0.],\n",
            "        [0., 0., 0.],\n",
            "        [0., 0., 0.]])\n",
            "tensor([[1., 1., 1., 1., 1.],\n",
            "        [1., 1., 1., 1., 1.],\n",
            "        [1., 1., 1., 1., 1.],\n",
            "        [1., 1., 1., 1., 1.]])\n",
            "tensor([10, 11, 12, 13, 14, 15, 16, 17, 18, 19])\n"
          ]
        }
      ],
      "source": [
        "# Creating Tensors\n",
        "# a) Create a tensor filled with zeros of size (5, 3)\n",
        "zerowy = torch.zeros((5, 3))\n",
        "print(zerowy)\n",
        "\n",
        "# b) Create a tensor filled with ones of any size you choose\n",
        "jedynkowy = torch.ones((4, 5))\n",
        "print(jedynkowy)\n",
        "\n",
        "# c) Create a tensor filled with a sequence of integers from 10 to 19.\n",
        "sekwencyjny = torch.arange(10, 20)\n",
        "print(sekwencyjny)"
      ]
    },
    {
      "cell_type": "code",
      "execution_count": 46,
      "metadata": {
        "colab": {
          "base_uri": "https://localhost:8080/"
        },
        "id": "UZJU5B511ce_",
        "outputId": "989999c5-5fb3-40a8-f618-fc2a7a0a5d2b"
      },
      "outputs": [
        {
          "name": "stdout",
          "output_type": "stream",
          "text": [
            "tensor([[ 8, 10],\n",
            "        [12, 14],\n",
            "        [16, 18]])\n",
            "tensor([[ 7, 16],\n",
            "        [27, 40],\n",
            "        [55, 72]])\n",
            "tensor(1.5000)\n",
            "tensor(6.)\n"
          ]
        }
      ],
      "source": [
        "# Tensor Operations\n",
        "# a) Add two tensors of the same shape and print the result.\n",
        "tensor1 = torch.tensor([[1, 2], [3, 4], [5, 6]])\n",
        "tensor2 = torch.tensor([[7, 8], [9, 10], [11, 12]])\n",
        "tensor_dodawanie = tensor1 + tensor2\n",
        "print(tensor_dodawanie)\n",
        "# b) Multiply two tensors of compatible sizes using element-wise multiplication.\n",
        "tensor_mnożenie = tensor1 * tensor2\n",
        "print(tensor_mnożenie)\n",
        "# c) Calculate the mean and sum of the elements in the tensor.\n",
        "tensor_dodawanie = tensor.to(torch.float)\n",
        "tensor_srednia = torch.mean(tensor_dodawanie)\n",
        "print(tensor_srednia)\n",
        "tensor_suma = torch.sum(tensor_dodawanie)\n",
        "print(tensor_suma)"
      ]
    },
    {
      "cell_type": "code",
      "execution_count": 47,
      "metadata": {
        "colab": {
          "base_uri": "https://localhost:8080/"
        },
        "id": "vLaqzh5Z1ce_",
        "outputId": "aa1c836a-831d-465d-ce3d-f92af36a6e4c"
      },
      "outputs": [
        {
          "name": "stdout",
          "output_type": "stream",
          "text": [
            "tensor([[1, 2, 3],\n",
            "        [4, 5, 6]])\n",
            "tensor([1, 2, 3, 4, 5, 6])\n"
          ]
        }
      ],
      "source": [
        "# Reshaping Tensors\n",
        "# a) Reshape one of the previously created tensors into the shape (3, 5).\n",
        "tensor_view = tensor1.view(2,3)\n",
        "print(tensor_view)\n",
        "# b) Flatten a tensor of any shape into a one-dimensional tensor and print its contents.\n",
        "tensor_splaszczony = tensor1.view(-1)\n",
        "print(tensor_splaszczony)"
      ]
    },
    {
      "cell_type": "code",
      "execution_count": 48,
      "metadata": {
        "colab": {
          "base_uri": "https://localhost:8080/"
        },
        "id": "AhlJKIno1ce_",
        "outputId": "c2de4901-8034-4487-d2f7-8b5c16e391f4"
      },
      "outputs": [
        {
          "name": "stdout",
          "output_type": "stream",
          "text": [
            "tensor([1, 5, 9])\n",
            "tensor([5, 6, 7, 8])\n",
            "tensor([[ 1,  2,  3,  4],\n",
            "        [ 5,  6,  7,  8],\n",
            "        [ 9, 10, 11, 12],\n",
            "        [13, 14, 15, 16]])\n",
            "tensor([[ 2,  4],\n",
            "        [10, 12]])\n"
          ]
        }
      ],
      "source": [
        "# Indexing and Slicing Tensors\n",
        "# a) Select the elements lying on the diagonal of a square matrix tensor.\n",
        "tensor_kwadratowy = torch.tensor([[1, 2, 3], [4, 5, 6], [7, 8, 9]])\n",
        "przekatna = torch.diagonal(tensor_kwadratowy)\n",
        "print(przekatna)\n",
        "\n",
        "# b) Extract the second row from a tensor of shape (3, 4).\n",
        "tensor_3x4 = torch.tensor([[1, 2, 3, 4], [5, 6, 7, 8], [9, 10, 11, 12]])\n",
        "drugi_wiersz = tensor_3x4[1]\n",
        "print(drugi_wiersz)\n",
        "\n",
        "# c) Create a tensor of shape (4, 4), then extract the elements located in even columns and odd rows.\n",
        "tensor_4x4 = torch.tensor([[1, 2, 3, 4], [5, 6, 7, 8], [9, 10, 11, 12], [13, 14, 15, 16]])\n",
        "wynik = tensor_4x4[::2, 1::2]\n",
        "print(tensor_4x4)\n",
        "print(wynik)"
      ]
    },
    {
      "cell_type": "code",
      "execution_count": 49,
      "metadata": {
        "colab": {
          "base_uri": "https://localhost:8080/"
        },
        "id": "qEvLovBN1ce_",
        "outputId": "33cff390-3e09-42e2-bb5d-d64e01f183d1"
      },
      "outputs": [
        {
          "name": "stdout",
          "output_type": "stream",
          "text": [
            "tensor([1, 2, 3, 4, 5])\n",
            "[1 2 3 4 5]\n",
            "tensor([0., 1., 2., 3.])\n"
          ]
        }
      ],
      "source": [
        "# Tensor and Numpy Operations\n",
        "# a) Create a tensor from a Python list and convert it to a Numpy array.\n",
        "lista = [1, 2, 3, 4, 5]\n",
        "tensor3 = torch.tensor(lista)\n",
        "numpy_tablica = tensor3.numpy()\n",
        "print(tensor3)\n",
        "print(numpy_tablica)\n",
        "# b) Change the data type of the tensor from float to int and explain the observed changes.\n",
        "tensor3 = tensor.to(torch.float)\n",
        "print(tensor3)"
      ]
    },
    {
      "cell_type": "code",
      "execution_count": 50,
      "metadata": {
        "colab": {
          "base_uri": "https://localhost:8080/"
        },
        "id": "OPwzhh5M1ce_",
        "outputId": "51ec4f84-629b-4fad-a5cc-698a18b132a5"
      },
      "outputs": [
        {
          "name": "stdout",
          "output_type": "stream",
          "text": [
            "tensor([[ 58,  64],\n",
            "        [139, 154]])\n",
            "tensor([[ 58, 139],\n",
            "        [ 64, 154]])\n"
          ]
        }
      ],
      "source": [
        "# Matrix Operations\n",
        "# a) Calculate the dot product of two tensors with appropriate sizes.\n",
        "tensor4 = torch.tensor([[1, 2, 3], [4, 5, 6]])\n",
        "tensor5 = torch.tensor([[7, 8], [9, 10], [11, 12]])\n",
        "iloczyn_macierzowy = torch.mm(tensor4, tensor5)\n",
        "print(iloczyn_macierzowy)\n",
        "# b) Transpose the tensor and explain how its shape changes.\n",
        "tensor_transponowany = iloczyn_macierzowy.t()\n",
        "print(tensor_transponowany)"
      ]
    },
    {
      "cell_type": "code",
      "execution_count": 51,
      "metadata": {
        "colab": {
          "base_uri": "https://localhost:8080/"
        },
        "id": "4dvzP4h21cfA",
        "outputId": "be71ecf7-ba89-4e3a-c1cb-8b2c8145b6a0"
      },
      "outputs": [
        {
          "name": "stdout",
          "output_type": "stream",
          "text": [
            "tensora mean -> 10.0\n",
            "tensor([11, 12, 13, 14, 15, 16, 17, 18, 19])\n",
            "tensor([ 1, -1,  3, -1,  5, -1,  7, -1,  9, -1, 11, -1, 13, -1, 15, -1, 17, -1,\n",
            "        19])\n"
          ]
        }
      ],
      "source": [
        "# Advanced Indexing\n",
        "# a) Use a logical mask to select from the tensor only those elements that are greater than the mean value of all elements in the tensor.\n",
        "tensor6 = torch.arange(1, 20)\n",
        "tensor6_float = tensor6.to(torch.float)\n",
        "srednia = torch.mean(tensor6_float)\n",
        "print(f\"tensora mean -> {srednia}\")\n",
        "\n",
        "maska_logiczna = tensor6_float > srednia\n",
        "wybrane_elementy = tensor6[maska_logiczna]\n",
        "print(wybrane_elementy)\n",
        "\n",
        "# b) Select the elements from the tensor that are even and replace them with the value -1.\n",
        "maska_parzyste = tensor6 % 2 == 0\n",
        "tensor6[maska_parzyste] = -1\n",
        "print(tensor6)"
      ]
    },
    {
      "cell_type": "code",
      "execution_count": 52,
      "metadata": {
        "colab": {
          "base_uri": "https://localhost:8080/"
        },
        "id": "ZOlB4CwU1cfA",
        "outputId": "ff8353ea-9202-41c5-a8fd-9c077c64fffc"
      },
      "outputs": [
        {
          "name": "stdout",
          "output_type": "stream",
          "text": [
            "Origin -> tensor([ 1, -1,  3, -1,  5, -1,  7, -1,  9, -1, 11, -1, 13, -1, 15, -1, 17, -1,\n",
            "        19])\n",
            "tensor([ 5,  3,  7,  3,  9,  3, 11,  3, 13,  3, 15,  3, 17,  3, 19,  3, 21,  3,\n",
            "        23])\n"
          ]
        }
      ],
      "source": [
        "# Task 8: In-Place Operations\n",
        "# a) Perform any in-place arithmetic operation (e.g., addition) and observe how the original tensor changes.\n",
        "print(f\"Origin -> {tensor6}\")\n",
        "w_miejscu = tensor6.add_(4)\n",
        "print(w_miejscu)\n"
      ]
    }
  ],
  "metadata": {
    "colab": {
      "provenance": []
    },
    "kernelspec": {
      "display_name": "pytorch_env",
      "language": "python",
      "name": "python3"
    },
    "language_info": {
      "codemirror_mode": {
        "name": "ipython",
        "version": 3
      },
      "file_extension": ".py",
      "mimetype": "text/x-python",
      "name": "python",
      "nbconvert_exporter": "python",
      "pygments_lexer": "ipython3",
      "version": "3.10.14"
    },
    "orig_nbformat": 4
  },
  "nbformat": 4,
  "nbformat_minor": 0
}
